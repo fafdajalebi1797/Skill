{
  "nbformat": 4,
  "nbformat_minor": 0,
  "metadata": {
    "colab": {
      "provenance": [],
      "mount_file_id": "1vwo6rnf-BKUBonbHIZZP2sgJzmw9fWF-",
      "authorship_tag": "ABX9TyN3raHXtAIgQ4fBpXpHs1iA",
      "include_colab_link": true
    },
    "kernelspec": {
      "name": "python3",
      "display_name": "Python 3"
    },
    "language_info": {
      "name": "python"
    }
  },
  "cells": [
    {
      "cell_type": "markdown",
      "metadata": {
        "id": "view-in-github",
        "colab_type": "text"
      },
      "source": [
        "<a href=\"https://colab.research.google.com/github/fafdajalebi1797/Skill/blob/main/BML.ipynb\" target=\"_parent\"><img src=\"https://colab.research.google.com/assets/colab-badge.svg\" alt=\"Open In Colab\"/></a>"
      ]
    },
    {
      "cell_type": "markdown",
      "source": [
        "**Experiment 1 and Experiment 2**"
      ],
      "metadata": {
        "id": "qF-nvKSaJ039"
      }
    },
    {
      "cell_type": "code",
      "execution_count": null,
      "metadata": {
        "id": "IwIn6XCxje8e",
        "colab": {
          "base_uri": "https://localhost:8080/"
        },
        "outputId": "2912e3a3-249b-40bb-c8c0-dcb33867777f"
      },
      "outputs": [
        {
          "output_type": "stream",
          "name": "stdout",
          "text": [
            "\n",
            "===== FIRST FIVE ROWS =====\n",
            "   Pregnancies  Glucose  BloodPressure  SkinThickness  Insulin   BMI  \\\n",
            "0            6      148             72             35        0  33.6   \n",
            "1            1       85             66             29        0  26.6   \n",
            "2            8      183             64              0        0  23.3   \n",
            "3            1       89             66             23       94  28.1   \n",
            "4            0      137             40             35      168  43.1   \n",
            "\n",
            "   DiabetesPedigreeFunction  Age  Outcome  \n",
            "0                     0.627   50        1  \n",
            "1                     0.351   31        0  \n",
            "2                     0.672   32        1  \n",
            "3                     0.167   21        0  \n",
            "4                     2.288   33        1  \n",
            "\n",
            "===== DATAFRAME INFO =====\n",
            "<class 'pandas.core.frame.DataFrame'>\n",
            "RangeIndex: 768 entries, 0 to 767\n",
            "Data columns (total 9 columns):\n",
            " #   Column                    Non-Null Count  Dtype  \n",
            "---  ------                    --------------  -----  \n",
            " 0   Pregnancies               768 non-null    int64  \n",
            " 1   Glucose                   768 non-null    int64  \n",
            " 2   BloodPressure             768 non-null    int64  \n",
            " 3   SkinThickness             768 non-null    int64  \n",
            " 4   Insulin                   768 non-null    int64  \n",
            " 5   BMI                       768 non-null    float64\n",
            " 6   DiabetesPedigreeFunction  768 non-null    float64\n",
            " 7   Age                       768 non-null    int64  \n",
            " 8   Outcome                   768 non-null    int64  \n",
            "dtypes: float64(2), int64(7)\n",
            "memory usage: 54.1 KB\n",
            "\n",
            "===== DATA SUMMARY =====\n",
            "       Pregnancies     Glucose  BloodPressure  SkinThickness     Insulin  \\\n",
            "count   768.000000  768.000000     768.000000     768.000000  768.000000   \n",
            "mean      3.845052  120.894531      69.105469      20.536458   79.799479   \n",
            "std       3.369578   31.972618      19.355807      15.952218  115.244002   \n",
            "min       0.000000    0.000000       0.000000       0.000000    0.000000   \n",
            "25%       1.000000   99.000000      62.000000       0.000000    0.000000   \n",
            "\n",
            "              BMI  DiabetesPedigreeFunction         Age     Outcome  \n",
            "count  768.000000                768.000000  768.000000  768.000000  \n",
            "mean    31.992578                  0.471876   33.240885    0.348958  \n",
            "std      7.884160                  0.331329   11.760232    0.476951  \n",
            "min      0.000000                  0.078000   21.000000    0.000000  \n",
            "25%     27.300000                  0.243750   24.000000    0.000000  \n",
            "\n",
            "===== DATA AFTER CLEANING =====\n",
            "   Pregnancies  Glucose  BloodPressure  SkinThickness  Insulin   BMI  \\\n",
            "0            6      148             72             35        0  33.6   \n",
            "1            1       85             66             29        0  26.6   \n",
            "2            8      183             64              0        0  23.3   \n",
            "3            1       89             66             23       94  28.1   \n",
            "4            0      137             40             35      168  43.1   \n",
            "\n",
            "   DiabetesPedigreeFunction  Age  Outcome  \n",
            "0                     0.627   50        1  \n",
            "1                     0.351   31        0  \n",
            "2                     0.672   32        1  \n",
            "3                     0.167   21        0  \n",
            "4                     2.288   33        1  \n",
            "\n",
            "===== NULL VALUE COUNT =====\n",
            "Pregnancies      0\n",
            "Glucose          0\n",
            "BloodPressure    0\n",
            "SkinThickness    0\n",
            "Insulin          0\n",
            "dtype: int64\n"
          ]
        }
      ],
      "source": [
        "# Import necessary libraries\n",
        "import pandas as pd\n",
        "from sklearn.preprocessing import MinMaxScaler, StandardScaler\n",
        "from sklearn.model_selection import train_test_split\n",
        "\n",
        "# Load the new dataset\n",
        "df = pd.read_csv(r\"/content/drive/MyDrive/archive (2).csv\")\n",
        "\n",
        "# Display first few rows\n",
        "print(\"\\n===== FIRST FIVE ROWS =====\")\n",
        "print(df.head())\n",
        "\n",
        "# Display dataset information\n",
        "print(\"\\n===== DATAFRAME INFO =====\")\n",
        "df.info()\n",
        "\n",
        "# Display summary statistics\n",
        "print(\"\\n===== DATA SUMMARY =====\")\n",
        "print(df.describe().head())\n",
        "\n",
        "# Data Cleaning: Drop rows with missing values and duplicates\n",
        "df.dropna(inplace=True)  # Drop rows with missing values\n",
        "df.drop_duplicates(inplace=True)  # Drop duplicate rows\n",
        "print(\"\\n===== DATA AFTER CLEANING =====\")\n",
        "print(df.head())\n",
        "\n",
        "# Display count of null values in each column\n",
        "print(\"\\n===== NULL VALUE COUNT =====\")\n",
        "print(df.isnull().sum().head())\n",
        "\n",
        "# Feature and Target Selection\n",
        "X = df[['Pregnancies', 'Glucose', 'BloodPressure', 'SkinThickness', 'Insulin',\n",
        "        'BMI', 'DiabetesPedigreeFunction', 'Age']].values  # Features\n",
        "y = df['Outcome'].values  # Target (Heart disease presence: 0 or 1)\n",
        "\n",
        "# Splitting dataset into training and testing sets\n",
        "X_train, X_test, y_train, y_test = train_test_split(X, y, test_size=0.3, random_state=42)\n"
      ]
    },
    {
      "cell_type": "markdown",
      "source": [
        "**Experiment 3 - Logistic Regression**"
      ],
      "metadata": {
        "id": "ABv1aa_HKJD_"
      }
    },
    {
      "cell_type": "code",
      "source": [
        "from sklearn.linear_model import LogisticRegression\n",
        "from sklearn.preprocessing import StandardScaler\n",
        "\n",
        "# Feature Scaling using StandardScaler\n",
        "scaler = StandardScaler()\n",
        "X_train = scaler.fit_transform(X_train)\n",
        "X_test = scaler.transform(X_test)\n",
        "\n",
        "# Logistic Regression Model\n",
        "model = LogisticRegression()\n",
        "model.fit(X_train, y_train)  # Using scaled data for training\n",
        "\n",
        "# Model Evaluation\n",
        "accuracy = model.score(X_test, y_test)  # Using scaled data for testing\n",
        "print(f\"\\n===== MODEL ACCURACY =====\")\n",
        "print(f\"Model Accuracy: {accuracy:.2%}\")\n"
      ],
      "metadata": {
        "colab": {
          "base_uri": "https://localhost:8080/"
        },
        "id": "ShHwsi4uM47w",
        "outputId": "b9a79c25-78f3-45fc-c8c8-69a8dc4bd785"
      },
      "execution_count": null,
      "outputs": [
        {
          "output_type": "stream",
          "name": "stdout",
          "text": [
            "\n",
            "===== MODEL ACCURACY =====\n",
            "Model Accuracy: 73.59%\n"
          ]
        }
      ]
    },
    {
      "cell_type": "markdown",
      "source": [
        "**Experiment 4 - Naive Bayes**"
      ],
      "metadata": {
        "id": "_8sRix5uKN8t"
      }
    },
    {
      "cell_type": "code",
      "source": [
        "from sklearn import datasets\n",
        "from sklearn import metrics\n",
        "from sklearn.naive_bayes import GaussianNB\n",
        "from sklearn.preprocessing import StandardScaler\n",
        "\n",
        "# Feature and Target Selection\n",
        "X = df[['Pregnancies', 'Glucose', 'BloodPressure', 'SkinThickness', 'Insulin', 'BMI', 'DiabetesPedigreeFunction', 'Age']].values  # Features\n",
        "y = df['Outcome'].values  # Target (Diabetes presence: 0 or 1)\n",
        "\n",
        "# Feature Scaling using StandardScaler\n",
        "scaler = StandardScaler()\n",
        "X_scaled = scaler.fit_transform(X)  # Scaling features\n",
        "\n",
        "# Initialize and fit the model\n",
        "model = GaussianNB()\n",
        "model.fit(X_scaled, y)\n",
        "\n",
        "# Make predictions\n",
        "expected = y\n",
        "predicted = model.predict(X_scaled)\n",
        "\n",
        "# Calculate accuracy\n",
        "accuracy = metrics.accuracy_score(expected, predicted)\n",
        "print(\"Accuracy:\", accuracy)\n",
        "\n",
        "# Print confusion matrix\n",
        "conf_matrix = metrics.confusion_matrix(expected, predicted)\n",
        "print(\"Confusion Matrix:\\n\", conf_matrix)\n"
      ],
      "metadata": {
        "colab": {
          "base_uri": "https://localhost:8080/"
        },
        "id": "fE6uM52fAXfm",
        "outputId": "48b144c2-e5a6-4b50-be3d-700f97fc214d"
      },
      "execution_count": null,
      "outputs": [
        {
          "output_type": "stream",
          "name": "stdout",
          "text": [
            "Accuracy: 0.7630208333333334\n",
            "Confusion Matrix:\n",
            " [[421  79]\n",
            " [103 165]]\n"
          ]
        }
      ]
    },
    {
      "cell_type": "markdown",
      "source": [
        "**Experiment 5 - Decision Tree**"
      ],
      "metadata": {
        "id": "nXmOblFXLDFy"
      }
    },
    {
      "cell_type": "markdown",
      "source": [
        "**Experiment 7 - KNN**"
      ],
      "metadata": {
        "id": "ZxX_X6AQLGp3"
      }
    },
    {
      "cell_type": "markdown",
      "source": [
        "**Experiment 8 - KMeans Clustering**"
      ],
      "metadata": {
        "id": "MCT-qCyVLJFF"
      }
    },
    {
      "cell_type": "markdown",
      "source": [
        "**Experiment 9 - PCA**"
      ],
      "metadata": {
        "id": "Cdq3M7XYLMdf"
      }
    },
    {
      "cell_type": "markdown",
      "source": [
        "**Experiment 6 and 10 - Random Forest**"
      ],
      "metadata": {
        "id": "T6Mca6jILPo7"
      }
    },
    {
      "cell_type": "markdown",
      "source": [
        "**Exoeriment 11 - Boosting**"
      ],
      "metadata": {
        "id": "hv4KXAltLShh"
      }
    },
    {
      "cell_type": "markdown",
      "source": [
        "**Experiment 12 - Performance Matrix / Evaluation**"
      ],
      "metadata": {
        "id": "9AWnw-eeLVBt"
      }
    }
  ]
}